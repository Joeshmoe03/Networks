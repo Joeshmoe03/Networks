{
  "cells": [
    {
      "cell_type": "markdown",
      "metadata": {
        "id": "WYdkzDE8MeOM"
      },
      "source": [
        "\n",
        "\n",
        "# Structure of Empirical Networks\n",
        "\n",
        "## Introduction\n",
        "\n",
        "So far, we've introduced several ways to quantify and visualize the properties of networks. Many of our examples have been small, and we've used the same network several times to illustrate important points. In this chapter, we'll address an important empirical question:\n",
        "\n",
        "> What are some of the properties of *real* networks more broadly?\n",
        "\n",
        "Of course, there's no simple answer to this question: we observe network data sets across a wide variety of domains, and many of them have different properties. For our purposes today, we'll look at a sample of four networks, including two familiar ones provided with NetworkX and two new ones:\n",
        "\n",
        "- `twitch`: A network of mutual friends on the Twitch streaming platform. The data set was collected by @musae.\n",
        "- `chameleon`: A network of Wikipedia pages on topics related to chameleons (yes, the animal). An edge exists between two nodes if the corresponding Wikipedia pages link to each other. The data set was collected by @musae.\n",
        "- `karate`: The Zachary Karate Club social network [@zachary1977information], which is packaged with NetworkX.\n",
        "- `les_mis`: A network of character interactions in the novel *Les Miserables* by Victor Hugo, also packaged with NetworkX.\n",
        "- `org_1` and `org_2`: Two anonymized Facebook social networks of employees in two different mediums-sized organizations. This data was collected and published by @fire2012organization. Nodes are employees and edges are  friendships. This data set was accessed from the [website of Michael Fire](https://data4goodlab.github.io/MichaelFire/#section3) and discovered via the [Colorado Index of Complex Networks](https://icon.colorado.edu/) (ICON).\n",
        "\n",
        "\n",
        "Our first task is to download these data sets and read them in as NetworkX graph objects, which we do in the hidden cell below."
      ]
    },
    {
      "cell_type": "code",
      "execution_count": 1,
      "metadata": {
        "id": "1PnGdvHJMeOR"
      },
      "outputs": [],
      "source": [
        "from matplotlib import pyplot as plt\n",
        "import networkx as nx\n",
        "plt.style.use('seaborn-v0_8-whitegrid')\n",
        "import numpy as np\n",
        "from scipy.special import factorial\n",
        "import pandas as pd\n",
        "import random\n",
        "\n",
        "# acquire twitch data\n",
        "url = \"https://raw.githubusercontent.com/benedekrozemberczki/MUSAE/master/input/edges/ENGB_edges.csv\"\n",
        "edges = pd.read_csv(url)\n",
        "G_twitch = nx.from_pandas_edgelist(edges, \"from\", \"to\", create_using=nx.Graph)\n",
        "\n",
        "# acquire chameleon data\n",
        "url = \"https://raw.githubusercontent.com/benedekrozemberczki/MUSAE/master/input/edges/chameleon_edges.csv\"\n",
        "edges = pd.read_csv(url)\n",
        "G_chameleon = nx.from_pandas_edgelist(edges, \"id1\", \"id2\", create_using=nx.Graph)\n",
        "\n",
        "# acquire organizations data\n",
        "\n",
        "url = \"https://raw.githubusercontent.com/network-science-notes/network-science-notes.github.io/refs/heads/main/data/organization-social-networks/M1Anonymized.csv\"\n",
        "edges = pd.read_csv(url, header=None)\n",
        "G_org_1 = nx.from_pandas_edgelist(edges, 0, 1, create_using=nx.Graph)\n",
        "\n",
        "url = \"https://raw.githubusercontent.com/network-science-notes/network-science-notes.github.io/refs/heads/main/data/organization-social-networks/M2Anonymized.csv\"\n",
        "edges = pd.read_csv(url, header=None)\n",
        "G_org_2 = nx.from_pandas_edgelist(edges, 0, 1, create_using=nx.Graph)\n",
        "\n",
        "# two built-in networkx data sets.\n",
        "G_karate = nx.karate_club_graph()\n",
        "G_les_mis = nx.les_miserables_graph()"
      ]
    },
    {
      "cell_type": "markdown",
      "metadata": {
        "id": "bZc8_-QPMeOS"
      },
      "source": [
        "Now that we have our data sets, we could in principle go ahead and compute various measurements and properties. However, a fundamental principle in measuring networks is to *compare*. If we say that a network has a high value of some measurement $X$, then the correct reply is:\n",
        "\n",
        "> High compared to what?\n",
        "\n",
        "There are many reasonable answers to this question, and we'll explore several of them when we come to the study of random graphs. For now, we are going to compare each of our real networks to a *synthetic random graph with a similar degree sequence*. [Technically, we are using a model that reproduces the degree sequence *approximately and in expectation*. This model is often called the Chung-Lu model and is due to @chung2002connected.]{.aside}\n",
        "\n",
        "The following code constructs a random synthetic counterpart graph for each of our empirical graphs. It then adds all of these to a dictionary so that we can easily access both the real and synthetic graphs later."
      ]
    },
    {
      "cell_type": "code",
      "execution_count": 2,
      "metadata": {
        "id": "wv25MHx0MeOT"
      },
      "outputs": [],
      "source": [
        "def unweight(G):\n",
        "    for source, target in G.edges():\n",
        "        G[source][target]['weight'] = 1\n",
        "\n",
        "def random_counterpart(G):\n",
        "    degrees = [deg for (node, deg) in G.degree()]\n",
        "    G_random = nx.expected_degree_graph(degrees, selfloops=False)\n",
        "    G_random.remove_edges_from(nx.selfloop_edges(G_random))\n",
        "    return G_random\n",
        "\n",
        "def add_to_dataset_dict(dataset_dict, G, name):\n",
        "    unweight(G)\n",
        "    dataset_dict[name] = {\n",
        "        \"graph\" : G,\n",
        "        \"random\" : random_counterpart(G)\n",
        "    }"
      ]
    },
    {
      "cell_type": "markdown",
      "metadata": {
        "id": "8ndFQhh_MeOT"
      },
      "source": [
        "Now we'll prepare our dictionary of data sets."
      ]
    },
    {
      "cell_type": "code",
      "execution_count": 3,
      "metadata": {
        "id": "8_aKbXQYMeOU"
      },
      "outputs": [],
      "source": [
        "dataset_dict = {}\n",
        "\n",
        "for graph, name in {G_twitch: \"twitch\",\n",
        "                    G_chameleon: \"chameleon\",\n",
        "                    G_karate: \"karate\",\n",
        "                    G_les_mis: \"les_mis\",\n",
        "                    G_org_1: \"org_1\",\n",
        "                    G_org_2: \"org_2\"}.items():\n",
        "\n",
        "    add_to_dataset_dict(dataset_dict, graph, name)"
      ]
    },
    {
      "cell_type": "markdown",
      "metadata": {
        "id": "-Qf_UnIeMeOU"
      },
      "source": [
        "To help us compute and compare measurements on these graphs, we'll define the following function which will manage these computations and organize the result as a table. This function takes as an argument a function `fun` which accepts a graph as an input and returns a scalar value."
      ]
    },
    {
      "cell_type": "code",
      "execution_count": 4,
      "metadata": {
        "id": "IROk3R2TMeOV"
      },
      "outputs": [],
      "source": [
        "def compute_metric(fun = lambda x: 0, compare = True):\n",
        "    print(\"Data Set\" + \" \" * 10 + \"Real\", end = \"\")\n",
        "    if compare:\n",
        "            print(\" \" * 10 + \"Random\")\n",
        "    else:\n",
        "        print()\n",
        "    print(\"-\" * 22, end = \"\")\n",
        "    if compare:\n",
        "        print(\"-\"*18)\n",
        "    else:\n",
        "        print()\n",
        "    for data_set in dataset_dict:\n",
        "        print(data_set + \" \" * (14 - len(data_set)) + f\"{fun(dataset_dict[data_set]['graph']):>8.2f}\", end = \"\")\n",
        "        if compare:\n",
        "            print(\" \" * (8) + f\"{fun(dataset_dict[data_set]['random']):>8.2f}\")\n",
        "        else:\n",
        "            print()"
      ]
    },
    {
      "cell_type": "markdown",
      "metadata": {
        "id": "20fNKMXeMeOV"
      },
      "source": [
        "## Node and Edge Counts\n",
        "\n",
        "Let's start with something simple: how many nodes and edges are in each graph?"
      ]
    },
    {
      "cell_type": "code",
      "execution_count": 5,
      "metadata": {
        "id": "TnKexJCrMeOV",
        "outputId": "ab7fdb71-398c-4e31-e11b-2fedecffbdf6",
        "colab": {
          "base_uri": "https://localhost:8080/"
        }
      },
      "outputs": [
        {
          "output_type": "stream",
          "name": "stdout",
          "text": [
            "Number of nodes\n",
            "Data Set          Real          Random\n",
            "----------------------------------------\n",
            "twitch         7126.00         7126.00\n",
            "chameleon      2277.00         2277.00\n",
            "karate           34.00           34.00\n",
            "les_mis          77.00           77.00\n",
            "org_1          1429.00         1429.00\n",
            "org_2          3862.00         3862.00\n"
          ]
        }
      ],
      "source": [
        "print(f\"Number of nodes\")\n",
        "compute_metric(lambda x: x.number_of_nodes())"
      ]
    },
    {
      "cell_type": "code",
      "execution_count": 6,
      "metadata": {
        "id": "xrBRhaoWMeOW",
        "outputId": "5c9e5021-c09f-4d59-fbcc-e878483bbd67",
        "colab": {
          "base_uri": "https://localhost:8080/"
        }
      },
      "outputs": [
        {
          "output_type": "stream",
          "name": "stdout",
          "text": [
            "Number of edges\n",
            "Data Set          Real          Random\n",
            "----------------------------------------\n",
            "twitch        35324.00        35628.00\n",
            "chameleon     31421.00        31361.00\n",
            "karate           78.00           55.00\n",
            "les_mis         254.00          234.00\n",
            "org_1         19357.00        19111.00\n",
            "org_2         87324.00        87251.00\n"
          ]
        }
      ],
      "source": [
        "print(f\"Number of edges\")\n",
        "compute_metric(lambda x: x.number_of_edges())"
      ]
    },
    {
      "cell_type": "markdown",
      "metadata": {
        "id": "5831zcZgMeOW"
      },
      "source": [
        "Although the number of nodes agree exactly in the real and random networks, there are some small discrepancies in the edge counts. This is due to the fact that our procedure for constructing random graphs (a) only preserves the degrees *in expectation* rather than exactly and (b) can create some self-loops, which get discarded.\n",
        "\n",
        "\n",
        "## Clustering Coefficient\n",
        "\n",
        "Now that we have our experimental setup in place, let's move on to something more complex. Take a moment and think of two of your friends, whom we'll call $A$ and $B$. Are $A$ and $B$ themselves friends with each other? If they are, then we say that you, $A$, and $B$ together form a *triangle* or *triad* in the social network."
      ]
    },
    {
      "cell_type": "code",
      "execution_count": 7,
      "metadata": {
        "fig-height": 2,
        "fig-width": 2,
        "id": "yREx3XtCMeOW",
        "outputId": "4cbb8f65-3f90-4ce1-9f8c-211027b38404",
        "colab": {
          "base_uri": "https://localhost:8080/",
          "height": 268
        }
      },
      "outputs": [
        {
          "output_type": "display_data",
          "data": {
            "text/plain": [
              "<Figure size 300x300 with 1 Axes>"
            ],
            "image/png": "[encoded data removed]"
          },
          "metadata": {}
        }
      ],
      "source": [
        "fig, ax = plt.subplots(1, 1, figsize = (3, 3))\n",
        "G = nx.Graph()\n",
        "G.add_edges_from([(\"A\", \"B\"), (\"A\", \"You\"), (\"B\", \"You\")])\n",
        "nx.draw(G, with_labels = True, node_size = 700, node_color = \"lightblue\", ax = ax)"
      ]
    },
    {
      "cell_type": "markdown",
      "metadata": {
        "id": "R_S8qnoxMeOW"
      },
      "source": [
        "A stylized fact about many networksis that triangles like these are common. In order to validate this stylized fact, we need to (a) determine how to measure the prevalence of triangles and (b) compare the value of this measure on our real networks to that of their random counterparts.\n",
        "\n",
        "There are many possible measures of the prevalence of triangles, but here we will use the *transitivity*: the fraction of all *possible* triangles that are present in the network. We define a *possible triangle* as a path of length 3 like that shown in @fig-wedge; the addition of just a single edge would turn this path into a triangle."
      ]
    },
    {
      "cell_type": "code",
      "execution_count": 8,
      "metadata": {
        "fig-height": 1,
        "fig-width": 1,
        "id": "V1C7Bk2QMeOX",
        "outputId": "410e957b-1f4c-49cd-d882-329be8329aef",
        "colab": {
          "base_uri": "https://localhost:8080/",
          "height": 268
        }
      },
      "outputs": [
        {
          "output_type": "display_data",
          "data": {
            "text/plain": [
              "<Figure size 300x300 with 1 Axes>"
            ],
            "image/png": "[encoded data removed]"
          },
          "metadata": {}
        }
      ],
      "source": [
        "\n",
        "fig, ax = plt.subplots(1, 1, figsize = (3, 3))\n",
        "G = nx.Graph()\n",
        "G.add_edges_from([ (\"A\", \"You\"), (\"B\", \"You\")])\n",
        "nx.draw(G, with_labels = True, node_size = 700, node_color = \"lightblue\", ax = ax)"
      ]
    },
    {
      "cell_type": "markdown",
      "metadata": {
        "id": "2FXfNOOEMeOX"
      },
      "source": [
        "It is possible to show that the number of possible triangles with node $i$ in the middle is $k_i(k_i - 1)/2$, where $k_i$ is the degree of node $i$. The transitivity is then the ratio of the number of triangles to the number of possible triangles.\n",
        "\n",
        "The formula for transitivity is therefore: [The factor of $\\frac{1}{2}$ for the number of possible triangles has cancelled with the factor of $\\frac{1}{2}$ needed to adjust the numerator to reflect the fact that we can travel a triangle in either direction]{.aside}\n",
        "\n",
        "$$\n",
        "\\begin{aligned}\n",
        "    T(G) = \\frac{\\mathrm{trace}(\\mathbf{A}^3)}{\\sum_{i} k_i(k_i - 1)}\n",
        "\\end{aligned}\n",
        "$$\n",
        "\n",
        "\n",
        "\n",
        "Here, $\\mathbf{A}$ is the adjacency matrix of $G$ and $k_i$ is the degree of node $i$.\n",
        "\n",
        "Let's write a function to compute the transitivity of a graph."
      ]
    },
    {
      "cell_type": "code",
      "execution_count": 11,
      "metadata": {
        "id": "YN0c41GNMeOX"
      },
      "outputs": [],
      "source": [
        "def my_transitivity(G):\n",
        "  # triangles\n",
        "  A = nx.adjacency_matrix(G).toarray()\n",
        "  num_triangles = np.trace(A@A@A)\n",
        "\n",
        "  # wedges\n",
        "  degrees = A.sum(axis = 0)\n",
        "  num_wedges = np.sum(degrees*(degrees - 1))\n",
        "\n",
        "  return num_triangles/num_wedges"
      ]
    },
    {
      "cell_type": "markdown",
      "metadata": {
        "id": "n7tzucB2MeOX"
      },
      "source": [
        "Let's compare our function to the built-in function supplied by NetworkX."
      ]
    },
    {
      "cell_type": "code",
      "execution_count": 12,
      "metadata": {
        "id": "wkJf1-EeMeOX",
        "outputId": "7caffc5f-daf0-4576-8550-8e6ebfd1a13a",
        "colab": {
          "base_uri": "https://localhost:8080/"
        }
      },
      "outputs": [
        {
          "output_type": "stream",
          "name": "stdout",
          "text": [
            "0.2556818181818182\n",
            "0.2556818181818182\n"
          ]
        }
      ],
      "source": [
        "print(my_transitivity(G_karate))\n",
        "print(nx.transitivity(G_karate))"
      ]
    },
    {
      "cell_type": "markdown",
      "metadata": {
        "id": "9Dca_kkmMeOX"
      },
      "source": [
        "Looks good! We'll move forward with the NetworkX version, as it is substantially faster on larger graphs."
      ]
    },
    {
      "cell_type": "code",
      "execution_count": 15,
      "metadata": {
        "id": "1k219D-aMeOY",
        "outputId": "64bf727f-0c85-4920-8a4c-f511e8fe7413",
        "colab": {
          "base_uri": "https://localhost:8080/"
        }
      },
      "outputs": [
        {
          "output_type": "stream",
          "name": "stdout",
          "text": [
            "transitivity\n",
            "Data Set          Real          Random\n",
            "----------------------------------------\n",
            "twitch            0.04            0.03\n",
            "chameleon         0.31            0.12\n",
            "karate            0.26            0.32\n",
            "les_mis           0.50            0.20\n",
            "org_1             0.26            0.08\n",
            "org_2             0.23            0.02\n"
          ]
        }
      ],
      "source": [
        "print(f\"transitivity\")\n",
        "compute_metric(nx.transitivity)"
      ]
    },
    {
      "cell_type": "markdown",
      "metadata": {
        "id": "U4qSnevTMeOY"
      },
      "source": [
        "We observe that the `chameleon` and `les_mis` graphs appear to have substantially greater transitivity than their random counterparts, while both `karate` and `twitch` have similar transitivity to their random counterparts. The two organizational social networks have much higher transitivity than their random counterparts as well. Under this comparison, *some* networks indeed display very high transitivity. Indeed, it's thought that most social networks have high transitivity.\n",
        "\n",
        "When interpreting these results, it's helpful to explicitly describe *what* is captured by the random counterpart when stating our conclusions. Recall that we constructed the random counterpart graphs to approximately preserve the degree sequence of the original data graph, while being otherwise random. Our conclusion could therefore be that graphs like `chameleon`, `les_mis`, or the two organizational graphs *have higher values of the transitivity than can be explained by their degree sequences alone*.\n",
        "\n",
        "## Connected Components\n",
        "\n",
        "What about the number of connected components in the network?"
      ]
    },
    {
      "cell_type": "code",
      "execution_count": 17,
      "metadata": {
        "id": "sX-59QQrMeOY",
        "outputId": "0147a107-ad29-4492-8311-5e2a7ecc7164",
        "colab": {
          "base_uri": "https://localhost:8080/"
        }
      },
      "outputs": [
        {
          "output_type": "stream",
          "name": "stdout",
          "text": [
            "Data Set          Real          Random\n",
            "----------------------------------------\n",
            "twitch            1.00          594.00\n",
            "chameleon         1.00           73.00\n",
            "karate            1.00            6.00\n",
            "les_mis           1.00            9.00\n",
            "org_1             1.00            7.00\n",
            "org_2             1.00            1.00\n"
          ]
        }
      ],
      "source": [
        "compute_metric(lambda x: len(list(nx.connected_components(x))))"
      ]
    },
    {
      "cell_type": "markdown",
      "metadata": {
        "id": "aR46csTFMeOY"
      },
      "source": [
        "Recall that we've engineered all of our real networks to have only one connected component, filtering if necessary. On the other hand, the random networks tend to have multiple connected components.\n",
        "\n",
        "Would it be fair to say that real networks are more connected than would be expected at random? Some caution is required here. Many researchers collect network data using methods that are especially likely to produce connected networks. For example, *snowball sampling* in study design refers to the method of recruiting participants for a survey or other instrument by asking people to recommend their friends. Since they can't recommend people they don't know, the snowball sample collected from an individual is always connected. Similarly, data sets like the `chameleon` data set are constructed by following links from one Wikipedia page to another. This method always produces a connected network as well. So, while it is true that many network data sets contain a single connected component, this is often an artifact of data collection rather than a fundamental property of the network.\n",
        "\n",
        "## Degree-Degree Correlations\n",
        "\n",
        "We have constructed random counterpart networks that have similar degree sequences to the real networks we are studying. Networks, however, can have interesting degree structures beyond just the degree sequence. One such structure is the *degree-assortativity*. The degree assortativity measures the extent to which nodes of similar degree are connected to each other. There are several ways to measure degree assortativity, but the most common one (due to @newman2018networks) has formula\n",
        "\n",
        "$$\n",
        "\\begin{aligned}\n",
        "    C = \\frac{\\sum_{(u,v) \\in G} k_u k_v - \\frac{1}{m}\\left(\\sum_{(u,v) \\in G}  k_u\\right)^2}{\\sum_{(u,v) \\in G} k_u^2 - \\frac{1}{m}\\left(\\sum_{(u,v) \\in G}  k_u\\right)^2}\\;.\n",
        "\\end{aligned}\n",
        "$$\n",
        "\n",
        "[If you are familiar with probability and statistics, this formula is equivalent to $C = \\frac{\\mathrm{cov}(K_1,K_2)}{\\sqrt{\\mathrm{var}(K_1)\\mathrm{var}(K_2)}}$, where $K_1$ and $K_2$ are the degrees of the nodes at the ends of an edge selected uniformly at random from $G$. This is also the Pearson correlation coefficient between $K_1$ and $K_2$.]{.aside}\n",
        "\n",
        "An *assortative* network (with high assortativity) is one in which nodes of high degree tend to connect to each other frequently. A *disassortative* network (with negative assortativity) is one in which nodes of high degree tend to connect to nodes of low degree. Let's take a look at the assortativity values in our networks:"
      ]
    },
    {
      "cell_type": "code",
      "execution_count": 18,
      "metadata": {
        "id": "8JZZddo_MeOY",
        "outputId": "7bd09238-01d9-41c3-b8a7-889c9e2c50f6",
        "colab": {
          "base_uri": "https://localhost:8080/"
        }
      },
      "outputs": [
        {
          "output_type": "stream",
          "name": "stdout",
          "text": [
            "Data Set          Real          Random\n",
            "----------------------------------------\n",
            "twitch           -0.12           -0.04\n",
            "chameleon        -0.20           -0.06\n",
            "karate           -0.48           -0.12\n",
            "les_mis          -0.17           -0.02\n",
            "org_1             0.11           -0.02\n",
            "org_2             0.09           -0.00\n"
          ]
        }
      ],
      "source": [
        "compute_metric(nx.degree_assortativity_coefficient)"
      ]
    },
    {
      "cell_type": "markdown",
      "metadata": {
        "id": "69pgSGeYMeOY"
      },
      "source": [
        "The two organizational social networks are slightly assortative: employees have a tendency to associate with those who are similarly connected to them. On the other hand, the remaining networks are disassortative, even in comparison to their random counterparts.\n",
        "\n",
        "Disassortativity is a common feature of many networks, and it is often attributed to the presence of *hubs* in the network. Hubs are nodes with very high degree, and they tend to connect to many other nodes. Since there are only a few hubs, they are more likely to connect to nodes of low degree than to other hubs.\n",
        "\n",
        "## Shortest Path Lengths\n",
        "\n",
        "In a famous study, Stanley @milgram1967small [^1] asked participants to ensure that a letter reached a target person, whom they did not know, in a US city. However, the participants were only allowed to send the letter to someone they knew on a first-name basis. That person could then send the letter to another person they knew on a first-name basis, and so on, until the letter was delivered (or lost). Perhaps surprisingly, many participants were able to reach the target person in only a few steps, on average. This experiment is the origin of the famous phrase *six degrees of separation*: in many social networks, most individuals are separated by relatively few links, even when the network is very large.  \n",
        "\n",
        "[^1]: Yes, [*that* Milgram](https://en.wikipedia.org/wiki/Milgram_experiment) [@milgram1963behavioral].\n",
        "\n",
        "\n",
        "To test this in our networks, we'll compute the length of the shortest path between a pair of nodes, averaged across all possible pairs. This quantity isn't defined for the random counterpart networks that have multiple disconnected components (why?), and so we'll stick to calculating it on the real-world networks."
      ]
    },
    {
      "cell_type": "code",
      "execution_count": 19,
      "metadata": {
        "id": "s4OyRZsBMeOY",
        "outputId": "9d0f7a25-8097-4f5c-d059-210714c4e8a4",
        "colab": {
          "base_uri": "https://localhost:8080/"
        }
      },
      "outputs": [
        {
          "output_type": "stream",
          "name": "stdout",
          "text": [
            "Data Set          Real\n",
            "----------------------\n",
            "twitch            3.68\n",
            "chameleon         3.56\n",
            "karate            2.41\n",
            "les_mis           2.64\n",
            "org_1             3.04\n",
            "org_2             2.76\n"
          ]
        }
      ],
      "source": [
        "compute_metric(lambda x: nx.average_shortest_path_length(x), compare = False)"
      ]
    },
    {
      "cell_type": "markdown",
      "metadata": {
        "id": "e7jJc6qMMeOZ"
      },
      "source": [
        "Indeed, despite some of these networks having thousands of nodes and edges, the average shortest path length does not exceed 4 links. We'll consider some theoretical models that aim to explain this phenomenon later in the course.\n",
        "\n",
        "## Degree Distributions\n",
        "\n",
        "So far in our investigations, we've focused on comparing networks to randomized counterparts that have similar degrees. But what if we want to look at the degrees themselves? The way we most frequently do this is by analyzing the degree distribution, which we can think of as a histogram of the node degrees. Let's look at the degree histogram for the karate club network:"
      ]
    },
    {
      "cell_type": "code",
      "execution_count": 20,
      "metadata": {
        "id": "vYbPasGJMeOZ",
        "outputId": "64aa258c-02f1-436c-e139-0c50bb44a7eb",
        "colab": {
          "base_uri": "https://localhost:8080/",
          "height": 400
        }
      },
      "outputs": [
        {
          "output_type": "execute_result",
          "data": {
            "text/plain": [
              "[Text(0.5, 0, 'Degree'), Text(0, 0.5, 'Density')]"
            ]
          },
          "metadata": {},
          "execution_count": 20
        },
        {
          "output_type": "display_data",
          "data": {
            "text/plain": [
              "<Figure size 600x400 with 1 Axes>"
            ],
            "image/png": "[encoded data removed]"
          },
          "metadata": {}
        }
      ],
      "source": [
        "fig, ax = plt.subplots(1, 1, figsize = (6, 4))\n",
        "deg = np.array([deg for i, deg in nx.degree(G_karate)])\n",
        "hist = ax.hist(deg, bins = 20, density = True,  edgecolor = \"black\")\n",
        "ax.set(xlabel = \"Degree\", ylabel = \"Density\")"
      ]
    },
    {
      "cell_type": "markdown",
      "metadata": {
        "id": "7w2o7ZdgMeOZ"
      },
      "source": [
        "We see that in the karate club network, there are a small number of nodes with very high degree. This kind of pattern is common in social networks. [We often say that the degree distribution is \"heavy-tailed\" when we mean to express the idea that there are a small number of very high-degree nodes.]{.aside}\n",
        "\n",
        "Heavy-tailed distributions are difficult to visualize on linear scales, so we often instead plot them on log-log scales. The helper functions in the hidden code cell below implement what is called \"logarithmic binning\" and plot the resulting log-binned histograms on logarithmic axes:"
      ]
    },
    {
      "cell_type": "code",
      "execution_count": 21,
      "metadata": {
        "id": "m09v6vNHMeOZ"
      },
      "outputs": [],
      "source": [
        "def log_binned_histogram(degree_sequence, interval = 5, num_bins = 20):\n",
        "    hist, bins = np.histogram(degree_sequence, bins = min(int(len(degree_sequence)/interval), num_bins))\n",
        "    bins = np.logspace(np.log10(bins[0]),np.log10(bins[-1]),len(bins))\n",
        "    hist, bins = np.histogram(degree_sequence, bins = bins)\n",
        "    binwidths = bins[1:] - bins[:-1]\n",
        "    hist = hist / binwidths\n",
        "    p = hist/hist.sum()\n",
        "    return bins[:-1], p\n",
        "\n",
        "def plot_degree_distribution(G, ax, **kwargs):\n",
        "\n",
        "    deg_seq = np.array([deg for i, deg in nx.degree(G)])\n",
        "    x, p = log_binned_histogram(deg_seq, **kwargs)\n",
        "    ax.scatter(x, p,  facecolors='none', edgecolors =  'cornflowerblue', linewidth = 2, label = \"Data\")\n",
        "    ax.loglog()\n"
      ]
    },
    {
      "cell_type": "markdown",
      "metadata": {
        "id": "fNuHZ-A_MeOZ"
      },
      "source": [
        "We can use these functions to plot the degree distribution of the networks we've previously studied:"
      ]
    },
    {
      "cell_type": "code",
      "execution_count": 22,
      "metadata": {
        "id": "peQNOMS_MeOZ",
        "outputId": "a9bf7d5a-c24b-416c-fd93-a6e858e56016",
        "colab": {
          "base_uri": "https://localhost:8080/",
          "height": 456
        }
      },
      "outputs": [
        {
          "output_type": "display_data",
          "data": {
            "text/plain": [
              "<Figure size 650x450 with 6 Axes>"
            ],
            "image/png": "[encoded data removed]"
          },
          "metadata": {}
        }
      ],
      "source": [
        "\n",
        "fig, ax = plt.subplots(2, 3, figsize = (6.5, 4.5))\n",
        "\n",
        "for i, name in enumerate(dataset_dict):\n",
        "\n",
        "    plot_degree_distribution(dataset_dict[name][\"graph\"], ax.ravel()[i], interval = 1, num_bins = 25)\n",
        "    ax.ravel()[i].set_title(name)\n",
        "\n",
        "    if i % 3 == 0:\n",
        "        ax.ravel()[i].set(ylabel = \"Density\")\n",
        "    if i >= 3:\n",
        "        ax.ravel()[i].set(xlabel = \"Degree\")\n",
        "\n",
        "plt.tight_layout()"
      ]
    },
    {
      "cell_type": "markdown",
      "metadata": {
        "id": "P0GsvzqOMeOa"
      },
      "source": [
        "Comparing our different data sets, we can observe a range of shapes in the degree distributions. One especially interesting feature of degree distributions that has received a LOT of attention in the networks literature (@holmeRareEverywherePerspectives2019) is the roughly linear behavior on log-log axes displayed, among our data sets, by the `twitch` graph. If we remember that both the horizontal and vertical axes are logarithmic, apparent linearity on these log-log axes corresponds to the equation\n",
        "\n",
        "$$\n",
        "\\begin{aligned}\n",
        "    \\log p_k = \\log C - \\gamma \\log k\\;,\n",
        "\\end{aligned}\n",
        "$$\n",
        "\n",
        "where $p_k$ is the proportion of nodes with degree $k$ and $C$ and $\\gamma$ are constants. Exponentiating both sides gives\n",
        "\n",
        "$$\n",
        "\\begin{aligned}\n",
        "    p_k = C k^{-\\gamma}\\;,\n",
        "\\end{aligned}\n",
        "$${#eq-power-law}\n",
        "\n",
        "which is called a *power law* for degree distribution. We say that the degree distribution of the `twitch` network appears to obey a power law *in the tail* of the distribution, since the linear behavior is only visible for larger values of $k$.\n",
        "\n",
        "### Statistical Properties of Power Laws\n",
        "\n",
        "Power laws have interesting statistical properties which depend on the value of the exponent $\\gamma$. Let's try computing a few *moments* of the distribution: [For mathematical simplicity, we are ignoring nodes of degree 0.]{.aside}\n",
        "\n",
        "$$\n",
        "\\begin{aligned}\n",
        "    \\mu_{0} &= \\sum_{k = 1}^\\infty p_k = C \\sum_{k = 1}^\\infty k^{-\\gamma} \\\\\n",
        "    \\mu_{1} &= \\sum_{k = 1}^\\infty p_k k = C \\sum_{k = 1}^\\infty k^{1-\\gamma} \\\\\n",
        "    \\mu_{2} &= \\sum_{k = 1}^\\infty p_k k^2 = C \\sum_{k = 1}^\\infty k^{2-\\gamma}\\;.\n",
        "\\end{aligned}\n",
        "$$\n",
        "\n",
        "We can recognize $\\mu_0$ as the sum of all the probabilities in the degree distribution, $\\mu_1$ as the mean of the degree distribution (i.e. the expected degree) and $\\mu_2$ as the expected squared degree, which is used in the formula for variance $\\mathrm{var}(K) = \\mu_2 - \\mu_1^2$. Recalling that the series $\\sum_{k = 1}^\\infty k^{-p}$ converges if and only if $p > 1$, we see that:\n",
        "\n",
        "- $\\mu_0$ is finite if and only if $\\gamma > 1$. This means that $\\gamma > 1$ is required for the power law to describe a valid probability distribution over degrees.\n",
        "- $\\mu_1$ is finite if and only if $\\gamma > 2$.\n",
        "- $\\mu_2$ is finite if and only if $\\gamma > 3$.\n",
        "\n",
        "Many empirical networks have degree distributions that are well-approximated by power laws with $\\gamma \\in (2, 3)$. In this regime, the mean is finite but the variance is infinite. This means that the distribution can generate samples which are arbitrarily far from the mean, as in the `twitch` network: although the *mean* degree is `{python} float(np.round(np.mean([deg for i, deg in nx.degree(G_twitch)])))`, the *maximum* degree is `{python} int(np.max([deg for i, deg in nx.degree(G_twitch)]))`.\n",
        "\n",
        "\n",
        "\n",
        "\n",
        "### Purported Universality of Power Laws\n",
        "\n",
        "@barabasiEmergenceScalingRandom1999 made the first published that power-law degree distributions are very common in real-world networks. This initial paper has since been cited over 46,000 times (as of August 2024). *Many* subsequent studies have fit power-law tails to degree distributions in empirical networks across social, technological, and biological domains. [@clausetPowerLawDistributionsEmpirical2009,  @broidoScalefreeNetworksAre2019 and @holmeRareEverywherePerspectives2019 provide some review and references for these claims.]{.aside}\n",
        "The idea that power laws are common in real-world networks is sometimes called the \"scale-free hypothesis.\" Part of the appeal of this hypothesis comes from statistical physics and complexity science, where power law distributions are common signatures of self-organizing systems.\n",
        "\n",
        "\n",
        "\n",
        "\n",
        "\n",
        "## References"
      ]
    }
  ],
  "metadata": {
    "kernelspec": {
      "display_name": "Python 3 (ipykernel)",
      "language": "python",
      "name": "python3",
      "path": "/Users/philchodrow/My Drive (pchodrow@middlebury.edu)/teaching/networks-notes/env/share/jupyter/kernels/python3"
    },
    "colab": {
      "provenance": []
    }
  },
  "nbformat": 4,
  "nbformat_minor": 0
}